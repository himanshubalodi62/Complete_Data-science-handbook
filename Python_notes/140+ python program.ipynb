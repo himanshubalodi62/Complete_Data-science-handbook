{
 "cells": [
  {
   "cell_type": "markdown",
   "id": "7b747ae6",
   "metadata": {},
   "source": [
    "## Program 1 "
   ]
  },
  {
   "cell_type": "markdown",
   "id": "7e2bc956",
   "metadata": {},
   "source": [
    "#### Write a Python program to print \"Hello Python\"."
   ]
  },
  {
   "cell_type": "code",
   "execution_count": 1,
   "id": "5e8b5427",
   "metadata": {},
   "outputs": [
    {
     "name": "stdout",
     "output_type": "stream",
     "text": [
      "Hello Python\n"
     ]
    }
   ],
   "source": [
    "print(\"Hello Python\")"
   ]
  },
  {
   "cell_type": "markdown",
   "id": "b415bc91",
   "metadata": {},
   "source": [
    "## Program 2"
   ]
  },
  {
   "cell_type": "markdown",
   "id": "cb9f0e71",
   "metadata": {},
   "source": [
    "#### Write a python program to do arithmatical operations additiion and division."
   ]
  },
  {
   "cell_type": "code",
   "execution_count": 5,
   "id": "9f1b993a",
   "metadata": {},
   "outputs": [
    {
     "name": "stdout",
     "output_type": "stream",
     "text": [
      "Enter the first number for addition:78\n",
      "Enter the second number for addition:53\n",
      "sum: 78.0 + 53.0 = 131.0\n"
     ]
    }
   ],
   "source": [
    "# Addition\n",
    "num1 = float(input(\"Enter the first number for addition:\"))\n",
    "num2 = float(input(\"Enter the second number for addition:\"))\n",
    "sum_result = num1 + num2 \n",
    "print(f\"sum: {num1} + {num2} = {sum_result}\")"
   ]
  },
  {
   "cell_type": "code",
   "execution_count": 6,
   "id": "d9812aa8",
   "metadata": {},
   "outputs": [
    {
     "name": "stdout",
     "output_type": "stream",
     "text": [
      "Enter the fisrt number for division:25\n",
      "Enter the second number for division:5\n",
      "Division: 25.0 / 5.0 = 5.0\n"
     ]
    }
   ],
   "source": [
    "# Division \n",
    "num3 = float(input(\"Enter the fisrt number for division:\"))\n",
    "num4 = float(input(\"Enter the second number for division:\"))\n",
    "if num4 == 0:\n",
    "    print(\"Error : Division by zero is not allowed\")\n",
    "else:\n",
    "    div_result = num3/num4\n",
    "    print(f\"Division: {num3} / {num4} = {div_result}\")"
   ]
  },
  {
   "cell_type": "markdown",
   "id": "23eebf8b",
   "metadata": {},
   "source": [
    "## Program 3"
   ]
  },
  {
   "cell_type": "markdown",
   "id": "a35e27d1",
   "metadata": {},
   "source": [
    "#### Write a Python program to find area of triangle?"
   ]
  },
  {
   "cell_type": "code",
   "execution_count": 8,
   "id": "26853e7e",
   "metadata": {},
   "outputs": [
    {
     "name": "stdout",
     "output_type": "stream",
     "text": [
      "Enter the length of the base of the triangle: 15\n",
      "Enter the height of the traingle: 20\n",
      "The area of the triangle is: 150.0\n"
     ]
    }
   ],
   "source": [
    "# input the base and heigth fro the user\n",
    "base = float(input(\"Enter the length of the base of the triangle: \"))\n",
    "height = float(input(\"Enter the height of the traingle: \"))\n",
    "# calculate the area of the triangle \n",
    "area = 0.5 * base * height\n",
    "# display the result \n",
    "print(f\"The area of the triangle is: {area}\")"
   ]
  },
  {
   "cell_type": "markdown",
   "id": "d9e28909",
   "metadata": {},
   "source": [
    "## Program 4"
   ]
  },
  {
   "cell_type": "markdown",
   "id": "708ff4dd",
   "metadata": {},
   "source": [
    "#### Write a Python program to swap two variables."
   ]
  },
  {
   "cell_type": "code",
   "execution_count": 10,
   "id": "422c3ac0",
   "metadata": {},
   "outputs": [
    {
     "name": "stdout",
     "output_type": "stream",
     "text": [
      "Enter the value of the first variable (a): 6\n",
      "Enter the value of the second variable (b): 9\n",
      "Originals values: a = 6, b = 9\n",
      "Swapped value: a = 9, b = 6\n"
     ]
    }
   ],
   "source": [
    "# Input two variable\n",
    "a = input(\"Enter the value of the first variable (a): \")\n",
    "b = input(\"Enter the value of the second variable (b): \")\n",
    "# Display the original value\n",
    "print(f\"Originals values: a = {a}, b = {b}\")\n",
    "# swap the value using temporary variable\n",
    "temp = a\n",
    "a = b\n",
    "b = temp\n",
    "# display swaped values\n",
    "print(f\"Swapped value: a = {a}, b = {b}\")\n"
   ]
  },
  {
   "cell_type": "markdown",
   "id": "8abb83e2",
   "metadata": {},
   "source": [
    "## Program 5"
   ]
  },
  {
   "cell_type": "markdown",
   "id": "663e196b",
   "metadata": {},
   "source": [
    "#### Write a python program to generate a random number?"
   ]
  },
  {
   "cell_type": "code",
   "execution_count": 11,
   "id": "c7e99835",
   "metadata": {},
   "outputs": [
    {
     "name": "stdout",
     "output_type": "stream",
     "text": [
      "Random number:116\n"
     ]
    }
   ],
   "source": [
    "import random\n",
    "print(f\"Random number:{random.randint(1,1000)}\")"
   ]
  },
  {
   "cell_type": "markdown",
   "id": "1fb3b28d",
   "metadata": {},
   "source": [
    "## Program 6\n"
   ]
  },
  {
   "cell_type": "markdown",
   "id": "f3808dfb",
   "metadata": {},
   "source": [
    "#### Write a Python program to convert kilometers to miles?\n"
   ]
  },
  {
   "cell_type": "code",
   "execution_count": 12,
   "id": "89f8bf41",
   "metadata": {},
   "outputs": [
    {
     "name": "stdout",
     "output_type": "stream",
     "text": [
      "Enter distance in kilometer:100\n",
      "100.0 kilometers is equal to 62.137100000000004 miles\n"
     ]
    }
   ],
   "source": [
    "kilometers = float(input(\"Enter distance in kilometer:\"))\n",
    "# Conversion factor: 1 kilometer = 0.621371\n",
    "conversion_factor = 0.621371\n",
    "miles = kilometers * conversion_factor\n",
    "print(f\"{kilometers} kilometers is equal to {miles} miles\")\n"
   ]
  },
  {
   "cell_type": "markdown",
   "id": "ad9fbc2d",
   "metadata": {},
   "source": [
    "## Program 7\n"
   ]
  },
  {
   "cell_type": "markdown",
   "id": "5c7498e4",
   "metadata": {},
   "source": [
    "#### Write a Python program to convert celsius to farhenheit?"
   ]
  },
  {
   "cell_type": "code",
   "execution_count": 14,
   "id": "0262b58c",
   "metadata": {},
   "outputs": [
    {
     "name": "stdout",
     "output_type": "stream",
     "text": [
      "Enter the temperature in celsius:37\n",
      "37.0 degrees Celsius is equal to 98.6 degrees fahrenheit\n"
     ]
    }
   ],
   "source": [
    "celsius = float(input(\"Enter the temperature in celsius:\"))\n",
    "\n",
    "# Conversion formula : Farenheit = (Celsius * 9/5) + 32\n",
    "fahrenheit = (celsius * 9/5) + 32\n",
    "print(f\"{celsius} degrees Celsius is equal to {fahrenheit} degrees fahrenheit\")\n"
   ]
  },
  {
   "cell_type": "markdown",
   "id": "cd894641",
   "metadata": {},
   "source": [
    "## Program 8"
   ]
  },
  {
   "cell_type": "markdown",
   "id": "9cf005d8",
   "metadata": {},
   "source": [
    "#### Write a Python program to display the calendar ?"
   ]
  },
  {
   "cell_type": "code",
   "execution_count": 17,
   "id": "9c369e8b",
   "metadata": {},
   "outputs": [
    {
     "name": "stdout",
     "output_type": "stream",
     "text": [
      "Enter the year:2024\n",
      "Enter the month:1\n",
      "    January 2024\n",
      "Mo Tu We Th Fr Sa Su\n",
      " 1  2  3  4  5  6  7\n",
      " 8  9 10 11 12 13 14\n",
      "15 16 17 18 19 20 21\n",
      "22 23 24 25 26 27 28\n",
      "29 30 31\n",
      "\n"
     ]
    }
   ],
   "source": [
    "import calendar \n",
    "\n",
    "year = int(input(\"Enter the year:\"))\n",
    "month = int(input(\"Enter the month:\"))\n",
    "\n",
    "cal = calendar.month(year,month)\n",
    "print(cal)"
   ]
  },
  {
   "cell_type": "markdown",
   "id": "1a1f40c8",
   "metadata": {},
   "source": [
    "## Program 9"
   ]
  },
  {
   "cell_type": "markdown",
   "id": "80f711b7",
   "metadata": {},
   "source": [
    "#### Write a python program to swap two variable without a temp variable ?"
   ]
  },
  {
   "cell_type": "code",
   "execution_count": 19,
   "id": "66e63e1b",
   "metadata": {},
   "outputs": [
    {
     "name": "stdout",
     "output_type": "stream",
     "text": [
      "before swaping 5 and 10\n",
      "After swaping \n",
      "a= 10\n",
      "b= 5\n"
     ]
    }
   ],
   "source": [
    "= 5\n",
    "b = 10\n",
    "print(f\"before swaping {a} and {b}\")\n",
    "a,b = b,a\n",
    "print(\"After swaping \")\n",
    "print(\"a=\",a)\n",
    "print(\"b=\",b)"
   ]
  },
  {
   "cell_type": "markdown",
   "id": "4865407c",
   "metadata": {},
   "source": [
    "## Program 10"
   ]
  },
  {
   "cell_type": "markdown",
   "id": "6a5fba6b",
   "metadata": {},
   "source": [
    "#### Write a python program to Check if a Number is Positive , Negative or Zero ?"
   ]
  },
  {
   "cell_type": "code",
   "execution_count": 20,
   "id": "2d06f11a",
   "metadata": {},
   "outputs": [
    {
     "name": "stdout",
     "output_type": "stream",
     "text": [
      "Enter a number:8.4\n",
      "Positive number\n"
     ]
    }
   ],
   "source": [
    "num = float(input(\"Enter a number:\"))\n",
    "if num > 0:\n",
    "    print(\"Positive number\")\n",
    "elif num == 0:\n",
    "    print(\"Zero\")\n",
    "else:\n",
    "    print(\"Negative\")\n"
   ]
  },
  {
   "cell_type": "markdown",
   "id": "9c51617e",
   "metadata": {},
   "source": [
    "## Program 13"
   ]
  },
  {
   "cell_type": "markdown",
   "id": "ba74e77f",
   "metadata": {},
   "source": [
    "#### Write a program to cheak leap year?"
   ]
  },
  {
   "cell_type": "code",
   "execution_count": 1,
   "id": "8fb0b598",
   "metadata": {},
   "outputs": [
    {
     "name": "stdout",
     "output_type": "stream",
     "text": [
      "Enter a year2024\n",
      "2024 is leap year\n"
     ]
    }
   ],
   "source": [
    "year = int(input(\"Enter a year\"))\n",
    "\n",
    "# divided by 100 means century year\n",
    "# century year divided by 400 is leap year\n",
    "if (year % 400 == 0) and (year % 100 == 0):\n",
    "    print(\"{0} is leap year\".format(year))\n",
    "    \n",
    "# not divided 100 means not a century year\n",
    "# year divided by 4 is leap year\n",
    "elif (year % 4 == 0) and (year % 100 != 0):\n",
    "    print(\"{0} is leap year\".format(year))\n",
    "    \n",
    "# if not divided by both 400 (century year) and 4 (not century year)\n",
    "# year is not leap year\n",
    "\n",
    "else:\n",
    "    print(\"{0} is not a leap year\".format(year))"
   ]
  },
  {
   "cell_type": "markdown",
   "id": "7bf9174e",
   "metadata": {},
   "source": [
    "## Program 14"
   ]
  },
  {
   "cell_type": "markdown",
   "id": "10c0081a",
   "metadata": {},
   "source": [
    "#### Write a Python program to check Prime Number."
   ]
  },
  {
   "cell_type": "markdown",
   "id": "24f2ad50",
   "metadata": {},
   "source": [
    "#### Prime Numbers:\n",
    "A prime number is a whole number that cannot be evenly divided by any other number\n",
    "except for 1 and itself. For example, 2, 3, 5, 7, 11, and 13 are prime numbers because they\n",
    "cannot be divided by any other positive integer except for 1 and their own value.\n"
   ]
  },
  {
   "cell_type": "code",
   "execution_count": 8,
   "id": "5013237b",
   "metadata": {},
   "outputs": [
    {
     "name": "stdout",
     "output_type": "stream",
     "text": [
      "Enter a number: 27\n",
      "27, is not a prime number\n"
     ]
    }
   ],
   "source": [
    "num = int(input(\"Enter a number: \"))\n",
    "flag = False\n",
    "if num == 1:\n",
    "    print(f\"{num}, is not a prime number\")\n",
    "elif num > 1:\n",
    "    # check for fectors\n",
    "    for i in range(2, num):\n",
    "        if (num % i) == 0:\n",
    "            flag = True\n",
    "            break\n",
    "if flag:\n",
    "    print(f\"{num}, is not a prime number\")\n",
    "else:\n",
    "    print(f\"{num}, is a prime number\")\n",
    "          "
   ]
  },
  {
   "cell_type": "markdown",
   "id": "96b6bca8",
   "metadata": {},
   "source": [
    "### Program 15 \n",
    "#### Write a Python Program to Print all Prime Numbers in an Interval of 1-10."
   ]
  },
  {
   "cell_type": "code",
   "execution_count": 11,
   "id": "7740f16f",
   "metadata": {},
   "outputs": [
    {
     "name": "stdout",
     "output_type": "stream",
     "text": [
      "Prime numbers between 1 and 10 are: \n",
      "2\n",
      "3\n",
      "5\n",
      "7\n"
     ]
    }
   ],
   "source": [
    "lower = 1\n",
    "upper = 10 \n",
    "\n",
    "print(\"Prime numbers between\",lower, \"and\", upper, \"are: \")\n",
    "\n",
    "for num in range(lower , upper +1):\n",
    "    if num > 1:\n",
    "        for i in range(2 , num):\n",
    "            if (num% i) == 0:\n",
    "                break\n",
    "        else:\n",
    "            print(num)"
   ]
  },
  {
   "cell_type": "markdown",
   "id": "b3e36870",
   "metadata": {},
   "source": [
    "### Program 16\n",
    "#### Write a Python Program to Find the Factorial of a Number"
   ]
  },
  {
   "cell_type": "code",
   "execution_count": 17,
   "id": "75ef80ea",
   "metadata": {},
   "outputs": [
    {
     "name": "stdout",
     "output_type": "stream",
     "text": [
      "Enter a number: 5\n",
      "The factorial of 5 is 120\n"
     ]
    }
   ],
   "source": [
    "num = int(input(\"Enter a number: \"))\n",
    "factorial = 1\n",
    "if num <0:\n",
    "    print(\"Factirial does not exist for negative numbers\")\n",
    "elif num == 0:\n",
    "    print(\"Factorial of 0 is 1\")\n",
    "else:\n",
    "    for i in range(1, num+1):\n",
    "        factorial = factorial*i\n",
    "    print(f'The factorial of {num} is {factorial}')"
   ]
  },
  {
   "cell_type": "markdown",
   "id": "3552e63f",
   "metadata": {},
   "source": [
    "### Program 17\n",
    "#### Write a Python Program to Display the multiplication Table."
   ]
  },
  {
   "cell_type": "code",
   "execution_count": 19,
   "id": "62af4abb",
   "metadata": {},
   "outputs": [
    {
     "name": "stdout",
     "output_type": "stream",
     "text": [
      "Display the multiplication of table: 20\n",
      "20 X 1 = 20\n",
      "20 X 2 = 40\n",
      "20 X 3 = 60\n",
      "20 X 4 = 80\n",
      "20 X 5 = 100\n",
      "20 X 6 = 120\n",
      "20 X 7 = 140\n",
      "20 X 8 = 160\n",
      "20 X 9 = 180\n",
      "20 X 10 = 200\n"
     ]
    }
   ],
   "source": [
    "num = int(input(\"Display the multiplication of table: \"))\n",
    "\n",
    "for i in range(1,11):\n",
    "    print(f'{num} X {i} = {num*i}')"
   ]
  },
  {
   "cell_type": "markdown",
   "id": "2e7c8db9",
   "metadata": {},
   "source": [
    "### Program 18\n",
    "#### Write a Python Program to Print the Fibonacci sequence."
   ]
  },
  {
   "cell_type": "code",
   "execution_count": 20,
   "id": "05f95833",
   "metadata": {},
   "outputs": [
    {
     "name": "stdout",
     "output_type": "stream",
     "text": [
      "Enter the number of terms in the Fibonacci sequence: 20\n",
      "Fibonacci sequence:\n",
      "[0, 1, 1, 2, 3, 5, 8, 13, 21, 34, 55, 89, 144, 233, 377, 610, 987, 1597, 2584, 4181]\n"
     ]
    }
   ],
   "source": [
    "def fibonacci_sequence(n):\n",
    "    fib_sequence = [0, 1]\n",
    "\n",
    "    while len(fib_sequence) < n:\n",
    "        next_number = fib_sequence[-1] + fib_sequence[-2]\n",
    "        fib_sequence.append(next_number)\n",
    "\n",
    "    return fib_sequence[:n]\n",
    "\n",
    "# Get user input for the number of terms in the Fibonacci sequence\n",
    "num_terms = int(input(\"Enter the number of terms in the Fibonacci sequence: \"))\n",
    "\n",
    "# Print the Fibonacci sequence\n",
    "result = fibonacci_sequence(num_terms)\n",
    "print(\"Fibonacci sequence:\")\n",
    "print(result)"
   ]
  },
  {
   "cell_type": "markdown",
   "id": "e155816b",
   "metadata": {},
   "source": [
    "### Program 19"
   ]
  },
  {
   "cell_type": "markdown",
   "id": "29e7f730",
   "metadata": {},
   "source": [
    "#### Write a Python Program to Check Armstrong Number?\n"
   ]
  },
  {
   "cell_type": "code",
   "execution_count": 1,
   "id": "5274c3fa",
   "metadata": {},
   "outputs": [
    {
     "name": "stdout",
     "output_type": "stream",
     "text": [
      "Enter a number143\n",
      "143 is not an Armstrong number.\n"
     ]
    }
   ],
   "source": [
    "num = int(input(\"Enter a number\"))\n",
    "num_str = str(num)\n",
    "num_digits = len(num_str)\n",
    "sum_of_powers = 0\n",
    "temp_num = num\n",
    "while temp_num > 0:\n",
    "    digit = temp_num % 10 \n",
    "    sum_of_powers += digit ** num_digits\n",
    "    temp_num //= 10\n",
    "if sum_of_powers == num:\n",
    "    print(f\"{num} is an Armstrong number.\")\n",
    "else:\n",
    "    print(f\"{num} is not an Armstrong number.\")"
   ]
  },
  {
   "cell_type": "markdown",
   "id": "40ac9717",
   "metadata": {},
   "source": [
    "### Program 20"
   ]
  },
  {
   "cell_type": "markdown",
   "id": "dd4cb27f",
   "metadata": {},
   "source": [
    "####  Write a Python Program to Find Armstrong Number in an Interval."
   ]
  },
  {
   "cell_type": "code",
   "execution_count": 3,
   "id": "b9def1a2",
   "metadata": {},
   "outputs": [
    {
     "name": "stdout",
     "output_type": "stream",
     "text": [
      "Enter the lower limit of the interval10\n",
      "Enter the upper limit of the interval1000\n",
      "153\n",
      "370\n",
      "371\n",
      "407\n"
     ]
    }
   ],
   "source": [
    "# input the interval of the user\n",
    "lower = int(input(\"Enter the lower limit of the interval\"))\n",
    "upper = int(input(\"Enter the upper limit of the interval\"))\n",
    "\n",
    "for num in range(lower , upper +1):\n",
    "    order = len(str(num))\n",
    "    temp_num = num\n",
    "    sum = 0\n",
    "    \n",
    "    while temp_num > 0:\n",
    "        digit = temp_num % 10\n",
    "        sum += digit ** order\n",
    "        temp_num //= 10\n",
    "        \n",
    "    # check if num is an  armstrong number\n",
    "    if num == sum:\n",
    "        print(num)"
   ]
  },
  {
   "cell_type": "markdown",
   "id": "fee433be",
   "metadata": {},
   "source": [
    "### Program 21"
   ]
  },
  {
   "cell_type": "markdown",
   "id": "3a7fb38a",
   "metadata": {},
   "source": [
    "####  Write a Python Program to Find the Sum of Natural Numbers"
   ]
  },
  {
   "cell_type": "code",
   "execution_count": 4,
   "id": "6a455c32",
   "metadata": {},
   "outputs": [
    {
     "name": "stdout",
     "output_type": "stream",
     "text": [
      "Enter the limit10\n",
      "The sum of natural numbers  up to 10 is 55\n"
     ]
    }
   ],
   "source": [
    "limit = int(input(\"Enter the limit\"))\n",
    "\n",
    "# initialize the sum \n",
    "\n",
    "sum = 0\n",
    "\n",
    "for i in range(1 , limit+1):\n",
    "    sum+= i\n",
    "    \n",
    "# print the sum\n",
    "\n",
    "print(\"The sum of natural numbers  up to\", limit ,\"is\" ,sum)"
   ]
  },
  {
   "cell_type": "markdown",
   "id": "729ce49f",
   "metadata": {},
   "source": [
    " ### Program 22"
   ]
  },
  {
   "cell_type": "markdown",
   "id": "ef093d58",
   "metadata": {},
   "source": [
    "#### Write the python program to find LCM."
   ]
  },
  {
   "cell_type": "code",
   "execution_count": 5,
   "id": "d24134f6",
   "metadata": {},
   "outputs": [
    {
     "name": "stdout",
     "output_type": "stream",
     "text": [
      "Enter the number78\n",
      "Enter the number46\n",
      "The LCM is  1794\n"
     ]
    }
   ],
   "source": [
    "def compute_lcm(x , y):\n",
    "    if x > y:\n",
    "        greater = x\n",
    "    else:\n",
    "        greater = y\n",
    "        \n",
    "    while(True):\n",
    "        if(greater % x == 0) and (greater % y == 0):\n",
    "            lcm = greater \n",
    "            break\n",
    "        greater += 1\n",
    "    return lcm\n",
    "num1 = int(input(\"Enter the number\"))\n",
    "num2 = int(input(\"Enter the number\"))\n",
    "\n",
    "print(\"The LCM is \" ,compute_lcm(num1 , num2))"
   ]
  },
  {
   "cell_type": "markdown",
   "id": "2d71f0af",
   "metadata": {},
   "source": [
    "### Program 23"
   ]
  },
  {
   "cell_type": "markdown",
   "id": "e67f8d2e",
   "metadata": {},
   "source": [
    "#### Write the python program to find HCF."
   ]
  },
  {
   "cell_type": "code",
   "execution_count": 6,
   "id": "aa42f9c9",
   "metadata": {},
   "outputs": [
    {
     "name": "stdout",
     "output_type": "stream",
     "text": [
      "Enter the number58\n",
      "Enter the number22\n",
      "The HCF is 2\n"
     ]
    }
   ],
   "source": [
    "def compute_hcf(x , y):\n",
    "    # choose the similer number\n",
    "    if x > y:\n",
    "        similar = y\n",
    "    else:\n",
    "        similar = x\n",
    "    \n",
    "    for i in range(1, similar + 1):\n",
    "        if((x%i == 0) and (y%i == 0)):\n",
    "            hcf = i\n",
    "    return hcf\n",
    "num1 = int(input(\"Enter the number\"))\n",
    "num2 = int(input(\"Enter the number\"))\n",
    "\n",
    "print(\"The HCF is\", compute_hcf(num1,num2))\n",
    "    "
   ]
  },
  {
   "cell_type": "markdown",
   "id": "bc7c134c",
   "metadata": {},
   "source": [
    "### Program 24"
   ]
  },
  {
   "cell_type": "markdown",
   "id": "ab75089c",
   "metadata": {},
   "source": [
    "#### Write the python program to convert decimal to binary , Octal to hexadecimal."
   ]
  },
  {
   "cell_type": "code",
   "execution_count": 11,
   "id": "64b2413f",
   "metadata": {},
   "outputs": [
    {
     "name": "stdout",
     "output_type": "stream",
     "text": [
      "Enter a decimal number54\n",
      "The decimal value of  54  is \n",
      "0b110110 in binary\n",
      "0o66 in octal\n",
      "0x36 in hexa decimal\n"
     ]
    }
   ],
   "source": [
    "dec_num = int(input(\"Enter a decimal number\"))\n",
    "\n",
    "print(\"The decimal value of \", dec_num ,\" is \")\n",
    "print(bin(dec_num), \"in binary\")\n",
    "print(oct(dec_num), \"in octal\")\n",
    "print(hex(dec_num), \"in hexa decimal\")"
   ]
  },
  {
   "cell_type": "markdown",
   "id": "c2e5b886",
   "metadata": {},
   "source": [
    "### Program 25"
   ]
  },
  {
   "cell_type": "markdown",
   "id": "9dde293c",
   "metadata": {},
   "source": [
    "#### Write the python program to find ASCII value of the character."
   ]
  },
  {
   "cell_type": "code",
   "execution_count": 14,
   "id": "60ab88b1",
   "metadata": {},
   "outputs": [
    {
     "name": "stdout",
     "output_type": "stream",
     "text": [
      "Enter the character: R\n",
      "The ASCII value of 'R' is 82\n"
     ]
    }
   ],
   "source": [
    "char = str(input(\"Enter the character: \"))\n",
    "print(\"The ASCII value of '\" + char +\"' is\", ord(char))"
   ]
  },
  {
   "cell_type": "markdown",
   "id": "7d18c9db",
   "metadata": {},
   "source": [
    "### Program 26"
   ]
  },
  {
   "cell_type": "markdown",
   "id": "b156ad19",
   "metadata": {},
   "source": [
    "#### Write the python program to make a simple calculater with 4 basic mathmatical operation ."
   ]
  },
  {
   "cell_type": "code",
   "execution_count": null,
   "id": "67374440",
   "metadata": {},
   "outputs": [
    {
     "name": "stdout",
     "output_type": "stream",
     "text": [
      "selection operation\n",
      "1. add\n",
      "2. subtract\n",
      "3. multiply\n",
      "4. divide\n",
      "Enter the choice 1/2/3/41\n",
      "Enter the first number566\n",
      "Enter the second number686\n",
      "566.0 + 686.0 = 1252.0\n",
      "Let's do next calculation? (yes/no)2\n",
      "Enter the choice 1/2/3/4979\n",
      "Invalid input\n",
      "Enter the choice 1/2/3/4070\n",
      "Invalid input\n",
      "Enter the choice 1/2/3/43\n",
      "Enter the first number57\n",
      "Enter the second number79\n",
      "57.0 * 79.0 * 4503.0\n",
      "Let's do next calculation? (yes/no)757858\n",
      "Enter the choice 1/2/3/44\n"
     ]
    }
   ],
   "source": [
    "# add two numbers\n",
    "def add(x,y):\n",
    "    return x + y\n",
    "\n",
    "# substract two numbers\n",
    "def sub(x,y):\n",
    "    return x - y\n",
    "\n",
    "#multiply two numbers\n",
    "def multiply(x,y):\n",
    "    return x*y\n",
    "\n",
    "# divide two numbers\n",
    "def divide(x,y):\n",
    "    return x / y\n",
    "\n",
    "print(\"selection operation\")\n",
    "print(\"1. add\")\n",
    "print(\"2. subtract\")\n",
    "print(\"3. multiply\")\n",
    "print(\"4. divide\")\n",
    "\n",
    "\n",
    "while True:\n",
    "    # take the input from the user\n",
    "    \n",
    "    choice = input(\"Enter the choice 1/2/3/4\")\n",
    "        \n",
    "    # check choice is four option \n",
    "    \n",
    "    if choice in ('1' ,'2' ,'3' ,'4'):\n",
    "        try:\n",
    "            num1 = float(input(\"Enter the first number\"))\n",
    "            num2 = float(input(\"Enter the second number\"))\n",
    "        except ValueError:\n",
    "            print(\"Invalid input. Please enter a number\")\n",
    "            continue\n",
    "            \n",
    "        if choice == '1':\n",
    "            print(num1, \"+\" ,num2, \"=\" , add(num1,num2))\n",
    "        elif choice == '2':\n",
    "            print(num1 ,\"-\" , num2, \"=\" ,subtract(num1, num2))\n",
    "        elif choice == '3':\n",
    "            print(num1 ,\"*\", num2 ,\"*\" , multiply(num1, num2))\n",
    "        elif choice == '4':\n",
    "            print(num1 ,\"/\", num2 ,\"/\" , divide(num1,num2))\n",
    "            \n",
    "            \n",
    "            # check the user want to another calculation\n",
    "            \n",
    "        next_calculation = input(\"Let's do next calculation? (yes/no)\")\n",
    "        if next_calculation == \"no\":\n",
    "                break\n",
    "    else:\n",
    "        print(\"Invalid input\")\n",
    "            \n",
    "            "
   ]
  },
  {
   "cell_type": "markdown",
   "id": "4882c64b",
   "metadata": {},
   "source": [
    "###  Program 27"
   ]
  },
  {
   "cell_type": "markdown",
   "id": "43e86ed0",
   "metadata": {},
   "source": [
    "#### Write a Python Program to Display Fibonacci Sequence Using Recursion."
   ]
  },
  {
   "cell_type": "code",
   "execution_count": 3,
   "id": "b6e35fe9",
   "metadata": {},
   "outputs": [
    {
     "name": "stdout",
     "output_type": "stream",
     "text": [
      "Enter the number of terms (greater than 0)15\n"
     ]
    },
    {
     "ename": "NameError",
     "evalue": "name 'nterms' is not defined",
     "output_type": "error",
     "traceback": [
      "\u001b[1;31m---------------------------------------------------------------------------\u001b[0m",
      "\u001b[1;31mNameError\u001b[0m                                 Traceback (most recent call last)",
      "Cell \u001b[1;32mIn[3], line 11\u001b[0m\n\u001b[0;32m      7\u001b[0m ntrerms \u001b[38;5;241m=\u001b[39m \u001b[38;5;28mint\u001b[39m(\u001b[38;5;28minput\u001b[39m(\u001b[38;5;124m\"\u001b[39m\u001b[38;5;124mEnter the number of terms (greater than 0)\u001b[39m\u001b[38;5;124m\"\u001b[39m))\n\u001b[0;32m      9\u001b[0m \u001b[38;5;66;03m# check if the number of term is valid \u001b[39;00m\n\u001b[1;32m---> 11\u001b[0m \u001b[38;5;28;01mif\u001b[39;00m \u001b[43mnterms\u001b[49m \u001b[38;5;241m<\u001b[39m\u001b[38;5;241m=\u001b[39m \u001b[38;5;241m0\u001b[39m:\n\u001b[0;32m     12\u001b[0m     \u001b[38;5;28mprint\u001b[39m(\u001b[38;5;124m\"\u001b[39m\u001b[38;5;124mplease enter the positive number:\u001b[39m\u001b[38;5;124m\"\u001b[39m)\n\u001b[0;32m     13\u001b[0m \u001b[38;5;28;01melse\u001b[39;00m:\n",
      "\u001b[1;31mNameError\u001b[0m: name 'nterms' is not defined"
     ]
    }
   ],
   "source": [
    "def recur_fibo(n):\n",
    "    if n <= 1:\n",
    "        return n\n",
    "    else:\n",
    "        return(recur_fibo(n-1) + recur_fibo(n-12))\n",
    "\n",
    "ntrerms = int(input(\"Enter the number of terms (greater than 0)\"))\n",
    "\n",
    "# check if the number of term is valid \n",
    "\n",
    "if nterms <= 0:\n",
    "    print(\"please enter the positive number:\")\n",
    "else:\n",
    "    print(\"Fibonnaci series\")\n",
    "    for i in range (nterms):\n",
    "        print(recur_fibo(i))\n",
    "    "
   ]
  },
  {
   "cell_type": "code",
   "execution_count": 2,
   "id": "127399c1",
   "metadata": {},
   "outputs": [
    {
     "ename": "IndentationError",
     "evalue": "unindent does not match any outer indentation level (<tokenize>, line 13)",
     "output_type": "error",
     "traceback": [
      "\u001b[1;36m  File \u001b[1;32m<tokenize>:13\u001b[1;36m\u001b[0m\n\u001b[1;33m    ksfjdfie\u001b[0m\n\u001b[1;37m    ^\u001b[0m\n\u001b[1;31mIndentationError\u001b[0m\u001b[1;31m:\u001b[0m unindent does not match any outer indentation level\n"
     ]
    }
   ],
   "source": [
    "def rec_fibo():\n",
    "        fdfejf\n",
    "        fmdfejfow\n",
    "         fsdfkeofw\n",
    "            s fsfkofkw\n",
    "            skfkfwp[fw\n",
    "                   fss]ssslfsojfjffihfifsfisjiiifjsifihi\n",
    "            fojijkiajsfjosjf\n",
    "            ksksdfjsdgjrfkmsdl\n",
    "            sjosjowkpfwfwwekgojwe\n",
    "            wkfkwljgwjgowf\n",
    "            wkpfkelgjerofe\n",
    " ksfjdfie\n",
    "            "
   ]
  },
  {
   "cell_type": "code",
   "execution_count": null,
   "id": "9710d1bf",
   "metadata": {},
   "outputs": [],
   "source": []
  }
 ],
 "metadata": {
  "kernelspec": {
   "display_name": "Python 3 (ipykernel)",
   "language": "python",
   "name": "python3"
  },
  "language_info": {
   "codemirror_mode": {
    "name": "ipython",
    "version": 3
   },
   "file_extension": ".py",
   "mimetype": "text/x-python",
   "name": "python",
   "nbconvert_exporter": "python",
   "pygments_lexer": "ipython3",
   "version": "3.10.9"
  }
 },
 "nbformat": 4,
 "nbformat_minor": 5
}
