{
 "cells": [
  {
   "cell_type": "markdown",
   "id": "0206c554",
   "metadata": {},
   "source": [
    "#### 1. Write the function that takes a list of numbers and returns the sum ?"
   ]
  },
  {
   "cell_type": "code",
   "execution_count": 1,
   "id": "a3f469cb",
   "metadata": {},
   "outputs": [],
   "source": [
    "def sum_of_list(nums):\n",
    "    return sum(nums)"
   ]
  },
  {
   "cell_type": "markdown",
   "id": "af9324be",
   "metadata": {},
   "source": [
    "##### 2. How do you reverse a string in python ?\n"
   ]
  },
  {
   "cell_type": "code",
   "execution_count": 2,
   "id": "9f5b1703",
   "metadata": {},
   "outputs": [],
   "source": [
    "def reverse_str(s):\n",
    "    return s[::-1]"
   ]
  },
  {
   "cell_type": "markdown",
   "id": "e4d740fb",
   "metadata": {},
   "source": [
    "#### 3. Write the function is the given number is palindrome ?"
   ]
  },
  {
   "cell_type": "code",
   "execution_count": 3,
   "id": "b9a9b05a",
   "metadata": {},
   "outputs": [],
   "source": [
    "def is_palindrom(word):\n",
    "    return_word == word[::-1]"
   ]
  },
  {
   "cell_type": "markdown",
   "id": "1216d0fc",
   "metadata": {},
   "source": [
    "#### 4. How can you remove duplicates from the list?"
   ]
  },
  {
   "cell_type": "code",
   "execution_count": 5,
   "id": "569fc81a",
   "metadata": {},
   "outputs": [],
   "source": [
    "def remove_duplicates(lst):\n",
    "    return list(set(lst))"
   ]
  },
  {
   "cell_type": "markdown",
   "id": "f1a6d3fa",
   "metadata": {},
   "source": [
    "#### 5. How do you handle exception in python ?\n"
   ]
  },
  {
   "cell_type": "markdown",
   "id": "9c5cd905",
   "metadata": {},
   "source": [
    "Ans: Using try and except block."
   ]
  },
  {
   "cell_type": "code",
   "execution_count": 7,
   "id": "b5eccb72",
   "metadata": {},
   "outputs": [
    {
     "name": "stdout",
     "output_type": "stream",
     "text": [
      "Cannot divide by zero!\n"
     ]
    }
   ],
   "source": [
    "try:\n",
    "    x = 1 / 0\n",
    "except ZeroDivisionError:\n",
    "    print(\"Cannot divide by zero!\")"
   ]
  },
  {
   "cell_type": "markdown",
   "id": "a2b9a7ba",
   "metadata": {},
   "source": [
    "#### 6. What is lambda function ? Give the example ."
   ]
  },
  {
   "cell_type": "markdown",
   "id": "796e530c",
   "metadata": {},
   "source": [
    "Ans : A lamda function is small , anonymous function. It can any number of arguments but can only have one expression."
   ]
  },
  {
   "cell_type": "code",
   "execution_count": 10,
   "id": "ce523e3e",
   "metadata": {},
   "outputs": [
    {
     "name": "stdout",
     "output_type": "stream",
     "text": [
      "12\n"
     ]
    }
   ],
   "source": [
    "multiply = lambda x,y : x * y\n",
    "print(multiply(3,4))"
   ]
  },
  {
   "cell_type": "markdown",
   "id": "d8e9ecbb",
   "metadata": {},
   "source": [
    "#### 7. Write the function return the n-th fabonaci number using recurssion?\n"
   ]
  },
  {
   "cell_type": "code",
   "execution_count": 11,
   "id": "96201d20",
   "metadata": {},
   "outputs": [],
   "source": [
    "def fibonnaci(n):\n",
    "    if n <=1:\n",
    "        return n\n",
    "    else:\n",
    "        fibonnaci(n-1) + fibonnacci(n-2)\n",
    "        "
   ]
  },
  {
   "cell_type": "markdown",
   "id": "4bb1bfa0",
   "metadata": {},
   "source": [
    "#### 8. What are the decorator in python and how they are used?"
   ]
  },
  {
   "cell_type": "markdown",
   "id": "a13effad",
   "metadata": {},
   "source": [
    "Ans : Decorator is just functio that takes another function as an arguments and some kind of functionalty."
   ]
  },
  {
   "cell_type": "code",
   "execution_count": 14,
   "id": "c5318ff2",
   "metadata": {},
   "outputs": [
    {
     "name": "stdout",
     "output_type": "stream",
     "text": [
      "something is happening before the function is called\n",
      "Hello!\n",
      "something is happening after the function is called\n"
     ]
    }
   ],
   "source": [
    "def my_decorator(func):\n",
    "    def wrapper():\n",
    "        print(\"something is happening before the function is called\")\n",
    "        func()\n",
    "        print(\"something is happening after the function is called\")\n",
    "    return wrapper\n",
    "@my_decorator \n",
    "def say_Hello():\n",
    "    print(\"Hello!\")\n",
    "    \n",
    "say_Hello()"
   ]
  },
  {
   "cell_type": "markdown",
   "id": "4f0ca39d",
   "metadata": {},
   "source": [
    "#### 9. How do you deep copy in the object in python?\n"
   ]
  },
  {
   "cell_type": "markdown",
   "id": "1ca2973a",
   "metadata": {},
   "source": [
    "Ans: You can use the copy module's deepcopy method."
   ]
  },
  {
   "cell_type": "code",
   "execution_count": 15,
   "id": "2775a21d",
   "metadata": {},
   "outputs": [],
   "source": [
    "import copy \n",
    "original = [[1,2,3] ,[4,5,6]]\n",
    "copied = copy.deepcopy(original)"
   ]
  },
  {
   "cell_type": "markdown",
   "id": "3ef253d6",
   "metadata": {},
   "source": [
    "#### 10. What is comprehension and provide an example?\n"
   ]
  },
  {
   "cell_type": "code",
   "execution_count": 1,
   "id": "07b6f06e",
   "metadata": {},
   "outputs": [],
   "source": [
    "squared_numbers = [x**2 for x in range(10)]"
   ]
  },
  {
   "cell_type": "markdown",
   "id": "56e368da",
   "metadata": {},
   "source": [
    "#### 11 . What is the difference between  == and is?"
   ]
  },
  {
   "cell_type": "markdown",
   "id": "cadb78c7",
   "metadata": {},
   "source": [
    "Ans: == checks for quality , while is checks fo identity (whethere two references point to the same object in memory)."
   ]
  },
  {
   "cell_type": "markdown",
   "id": "91d780e4",
   "metadata": {},
   "source": [
    "#### 12. Explain the concept of *args and **kwargs in python?"
   ]
  },
  {
   "cell_type": "markdown",
   "id": "ccdef2a2",
   "metadata": {},
   "source": [
    "Ans: *args allow to you pass variable number of positional arguments to a function, while **kwargs allows you to pass a variable\n",
    "number of keyword arguments."
   ]
  },
  {
   "cell_type": "code",
   "execution_count": 2,
   "id": "6dd73297",
   "metadata": {},
   "outputs": [
    {
     "name": "stdout",
     "output_type": "stream",
     "text": [
      "1\n",
      "2\n",
      "3\n",
      "a = 4\n",
      "b = 5\n"
     ]
    }
   ],
   "source": [
    "def function_example(*args, **kwargs):\n",
    "    for arg in args:\n",
    "        print(arg)\n",
    "    for key, value in kwargs.items():\n",
    "        print(f\"{key} = {value}\")\n",
    "function_example (1,2,3,a=4,b=5)\n",
    "        "
   ]
  },
  {
   "cell_type": "markdown",
   "id": "c577e11c",
   "metadata": {},
   "source": [
    "#### 13. What is the generator and how is it different from list ?"
   ]
  },
  {
   "cell_type": "markdown",
   "id": "10176251",
   "metadata": {},
   "source": [
    "Ans: A Generator is an iterable that yields item one at a time using a yield statement , whereas a list holds all its items in\n",
    "    memory. Generator are more memory-efficient for large data sets."
   ]
  },
  {
   "cell_type": "code",
   "execution_count": 3,
   "id": "66614c3b",
   "metadata": {},
   "outputs": [],
   "source": [
    "# eg: \n",
    "def count_up_to(n):\n",
    "    count = 1\n",
    "    while count <= n:\n",
    "        yield count\n",
    "        count +=1"
   ]
  },
  {
   "cell_type": "markdown",
   "id": "3b9b915b",
   "metadata": {},
   "source": [
    "#### 14. How can you achieve multithreading in python?"
   ]
  },
  {
   "cell_type": "markdown",
   "id": "2e79a8f7",
   "metadata": {},
   "source": [
    "Ans:  Python has a threading module which can be used to achieve multi-threading."
   ]
  },
  {
   "cell_type": "code",
   "execution_count": 5,
   "id": "a456aaad",
   "metadata": {},
   "outputs": [
    {
     "name": "stdout",
     "output_type": "stream",
     "text": [
      "1\n",
      "2\n",
      "3\n",
      "4\n",
      "5\n",
      "a\n",
      "b\n",
      "c\n",
      "d\n",
      "e\n"
     ]
    }
   ],
   "source": [
    "#eg:\n",
    "import threading \n",
    "\n",
    "def print_numbers():\n",
    "    for i in range(1 , 6):\n",
    "        print(i)\n",
    "        \n",
    "def print_letters():\n",
    "    for letter in 'abcde':\n",
    "        print(letter)\n",
    "        \n",
    "t1 = threading.Thread(target=print_numbers)\n",
    "t2 = threading.Thread(target=print_letters)\n",
    "\n",
    "t1.start()\n",
    "t2.start()\n",
    "\n",
    "t1.join()\n",
    "t2.join()"
   ]
  },
  {
   "cell_type": "markdown",
   "id": "3fbc3587",
   "metadata": {},
   "source": [
    "#### 15. what are the masterclass in python?"
   ]
  },
  {
   "cell_type": "markdown",
   "id": "a74bddb2",
   "metadata": {},
   "source": [
    "Ans: Masterclasses are a deep and advanced topic in python. Essentially, they are \"classes of a class\" that define how a class\n",
    "    behaves. The default metaclass is type, but you can create your own metaclass to custmize class behavior."
   ]
  },
  {
   "cell_type": "markdown",
   "id": "c556414d",
   "metadata": {},
   "source": [
    "#### 17. Describe the Global Interpreter Lock(GIL) and its implications."
   ]
  },
  {
   "cell_type": "markdown",
   "id": "ae967d58",
   "metadata": {},
   "source": [
    "Ans: The GIL is a mutex(or a loack) that allows only one thread to excute Python bytecode at a time in CPython (the standard Python\n",
    "                                                                                                               implementation). This\n",
    "    means that even on multi-core systems, only one thread is executed at a time. This can be botleneck for CPU-bound programs , but \n",
    "    it is not generally an issue for I/O-bound programs."
   ]
  },
  {
   "cell_type": "markdown",
   "id": "bd7767f4",
   "metadata": {},
   "source": [
    "#### 18. How do you sort dictionary by its values?"
   ]
  },
  {
   "cell_type": "code",
   "execution_count": 6,
   "id": "0788c95c",
   "metadata": {},
   "outputs": [],
   "source": [
    "d = {'apple':15,'banana':10,'cherry':20}\n",
    "sorted_d = dict(sorted(d.items(), key=lambda item: item[1]))"
   ]
  },
  {
   "cell_type": "markdown",
   "id": "8aeb53a1",
   "metadata": {},
   "source": [
    "#### 19. How is string interpolation done in python?"
   ]
  },
  {
   "cell_type": "markdown",
   "id": "6cb89aad",
   "metadata": {},
   "source": [
    "Ans: There are several ways:\n",
    "\n",
    "Using % formatting.\n",
    "\n",
    "Using .format() method.\n",
    "\n",
    "Using f-strings (from Python 3.6+)."
   ]
  },
  {
   "cell_type": "code",
   "execution_count": 7,
   "id": "fb12a287",
   "metadata": {},
   "outputs": [
    {
     "name": "stdout",
     "output_type": "stream",
     "text": [
      "Hello,%s!\n",
      "Hello, Alice!\n",
      "Hello,Alice!\n"
     ]
    }
   ],
   "source": [
    "name = 'Alice'\n",
    "# using % formating\n",
    "print(\"Hello,%s!\".format(name))\n",
    "\n",
    "#using.format()\n",
    "print(\"Hello, {}!\".format(name))\n",
    "\n",
    "#using f-strings\n",
    "print(f\"Hello,{name}!\")"
   ]
  },
  {
   "cell_type": "markdown",
   "id": "2607a8ed",
   "metadata": {},
   "source": [
    "####  20. How can you implement a singleton pattern in Python?\n"
   ]
  },
  {
   "cell_type": "code",
   "execution_count": 8,
   "id": "bec8cbad",
   "metadata": {},
   "outputs": [],
   "source": [
    "class Singleton:\n",
    "    _instance = None\n",
    "    \n",
    "    def __new__(cls):\n",
    "        if cls._instance is None:\n",
    "            cls._instance = super().__new__(cls)\n",
    "        return cls._instance"
   ]
  },
  {
   "cell_type": "markdown",
   "id": "1c7c881a",
   "metadata": {},
   "source": [
    "#### 21. What is the difference between shallow copy and deep copy?\n",
    "\n",
    "Answer:\n",
    "\n",
    "Shallow copy: Creates a new object, but does not create copies of objects that the original object references. Instead, it copies references.\n",
    "\n",
    "Deep copy: Creates a new object and also recursively creates copies of objects found in the original."
   ]
  },
  {
   "cell_type": "markdown",
   "id": "5720eb1f",
   "metadata": {},
   "source": [
    "#### 22. : How do you swap two variables in Python?\n",
    "\n",
    "Answer: In Python, swapping can be done without a temporary variable."
   ]
  },
  {
   "cell_type": "code",
   "execution_count": 9,
   "id": "5f08be75",
   "metadata": {},
   "outputs": [],
   "source": [
    "a, b = 5, 10\n",
    "a, b = b, a"
   ]
  },
  {
   "cell_type": "markdown",
   "id": "80c4904c",
   "metadata": {},
   "source": [
    "#### 23. Explain Python's garbage collection process.\n",
    "\n",
    "Answer: Python uses reference counting and a cyclic garbage collector. Reference counting means objects are automatically deallocated once their reference count drops to zero. The cyclic garbage collector finds and cleans up reference cycles, which are situations where a group of objects reference each other but are not referenced anywhere else."
   ]
  },
  {
   "cell_type": "markdown",
   "id": "a213f3c2",
   "metadata": {},
   "source": [
    "#### 24. What are Python's magic (dunder) methods, and how are they used? Provide an example.\n",
    "\n",
    "Answer: Magic or dunder (double underscore) methods in Python are special methods that have double underscores at the beginning and end of their names. They allow developers to emulate built-in behavior or implement operator overloading.\n",
    "\n",
    "Example:"
   ]
  },
  {
   "cell_type": "code",
   "execution_count": 11,
   "id": "0b7e1bd0",
   "metadata": {},
   "outputs": [
    {
     "name": "stdout",
     "output_type": "stream",
     "text": [
      "250\n"
     ]
    }
   ],
   "source": [
    "class Book:\n",
    "    def __init__(self, pages):\n",
    "        self.pages = pages\n",
    "    \n",
    "    def __add__(self, other):\n",
    "        return Book(self.pages + other.pages)\n",
    "\n",
    "book1 = Book(100)\n",
    "book2 = Book(150)\n",
    "book3 = book1 + book2\n",
    "print(book3.pages) "
   ]
  },
  {
   "cell_type": "markdown",
   "id": "6a5cf816",
   "metadata": {},
   "source": [
    "#### 25. : How do you check if a variable is an instance of a particular type?\n",
    "\n",
    "Answer: You can use the isinstance() function."
   ]
  },
  {
   "cell_type": "code",
   "execution_count": 12,
   "id": "1b637120",
   "metadata": {},
   "outputs": [
    {
     "name": "stdout",
     "output_type": "stream",
     "text": [
      "x is a list\n"
     ]
    }
   ],
   "source": [
    "x = [1, 2, 3]\n",
    "if isinstance(x, list):\n",
    "    print(\"x is a list\")\n"
   ]
  },
  {
   "cell_type": "markdown",
   "id": "22ed2911",
   "metadata": {},
   "source": [
    "#### 26. What does the else clause in a loop do?\n",
    "\n",
    "Answer: The else clause in a loop is executed when the loop finishes execution (i.e., when the loop condition becomes False). It won't execute if the loop was exited using a break statement."
   ]
  },
  {
   "cell_type": "code",
   "execution_count": 13,
   "id": "0a91b3ce",
   "metadata": {},
   "outputs": [
    {
     "name": "stdout",
     "output_type": "stream",
     "text": [
      "0\n",
      "1\n",
      "2\n",
      "3\n",
      "4\n",
      "loop finshed\n"
     ]
    }
   ],
   "source": [
    "for i in range(5):\n",
    "    print(i)\n",
    "else:\n",
    "    print(\"loop finshed\")"
   ]
  },
  {
   "cell_type": "markdown",
   "id": "7dfd61be",
   "metadata": {},
   "source": [
    "#### 27. What is the purpose of Pass statement?\n"
   ]
  },
  {
   "cell_type": "markdown",
   "id": "db9249f3",
   "metadata": {},
   "source": [
    "Ans: Pass statement does nothing.It's used a placeholder where syntactically some code is required , but you don't want to excute\n",
    "    any command or code."
   ]
  },
  {
   "cell_type": "markdown",
   "id": "cbab45b3",
   "metadata": {},
   "source": [
    "#### 28.  How do you retrieve all the keys, values, and items from a dictionary?\n",
    "\n",
    "Answer: You can use the methods keys(), values(), and items() respectively."
   ]
  },
  {
   "cell_type": "code",
   "execution_count": 14,
   "id": "e0605afb",
   "metadata": {},
   "outputs": [
    {
     "name": "stdout",
     "output_type": "stream",
     "text": [
      "dict_keys(['a', 'b'])\n",
      "dict_values([1, 2])\n",
      "dict_items([('a', 1), ('b', 2)])\n"
     ]
    }
   ],
   "source": [
    "d = {\"a\" : 1 , \"b\" : 2}\n",
    "print(d.keys())\n",
    "print(d.values())\n",
    "print(d.items())"
   ]
  },
  {
   "cell_type": "markdown",
   "id": "218f0f39",
   "metadata": {},
   "source": [
    "#### 29.  What is the difference between __new__ and __init__ in a class?\n",
    "\n",
    "Answer: __new__ is responsible for creating and returning a new instance of the class, while __init__ is responsible for initializing the created object."
   ]
  },
  {
   "cell_type": "markdown",
   "id": "940a55d7",
   "metadata": {},
   "source": [
    "#### 30. What is the difference between an Iterable and an Iterator?\n",
    "\n",
    "Answer:\n",
    "\n",
    "Iterable: An object which has an __iter__ method that returns an iterator.\n",
    "    \n",
    "Iterator: An object that can return its items one at a time using the __next__ method and implements the __iter__ method."
   ]
  },
  {
   "cell_type": "markdown",
   "id": "cd923c40",
   "metadata": {},
   "source": [
    "#### 31. How does the map function work in Python?\n",
    "\n",
    "Answer: The map function applies a given function to all the items in an input list (or another iterable). For example:"
   ]
  },
  {
   "cell_type": "code",
   "execution_count": 15,
   "id": "038886fe",
   "metadata": {},
   "outputs": [
    {
     "name": "stdout",
     "output_type": "stream",
     "text": [
      "[1, 4, 9, 16]\n"
     ]
    }
   ],
   "source": [
    "numbers = [1,2,3,4]\n",
    "squared = map(lambda x: x**2 , numbers)\n",
    "print(list(squared))\n"
   ]
  },
  {
   "cell_type": "markdown",
   "id": "d1bcac53",
   "metadata": {},
   "source": [
    "#### 32. What are context managers in Python? Provide an example.\n",
    "\n",
    "Answer: Context managers allow resources to be properly managed and cleaned up after use. The most common example is opening files using the with statement."
   ]
  },
  {
   "cell_type": "markdown",
   "id": "8b5c4242",
   "metadata": {},
   "source": [
    "with open('file.txt','r') as file:\n",
    "\n",
    "    content = file.read()"
   ]
  },
  {
   "cell_type": "markdown",
   "id": "073bc78e",
   "metadata": {},
   "source": [
    "#### 33.  How can you dynamically create a new class at runtime?\n",
    "\n",
    "Answer: You can use the type() function."
   ]
  },
  {
   "cell_type": "code",
   "execution_count": 17,
   "id": "9d4acaf2",
   "metadata": {},
   "outputs": [
    {
     "name": "stdout",
     "output_type": "stream",
     "text": [
      "10\n"
     ]
    }
   ],
   "source": [
    "MyClass = type('MyClass', (object,),{'x':10})\n",
    "obj = MyClass()\n",
    "print(obj.x)"
   ]
  },
  {
   "cell_type": "markdown",
   "id": "2911974f",
   "metadata": {},
   "source": [
    "#### 34.  What does the zip function do in Python?\n",
    "\n",
    "Answer: The zip function takes two or more iterables as arguments and returns an iterator that generates tuples containing elements from the input iterables. Elements are paired based on their order."
   ]
  },
  {
   "cell_type": "code",
   "execution_count": 18,
   "id": "c04fc8db",
   "metadata": {},
   "outputs": [
    {
     "name": "stdout",
     "output_type": "stream",
     "text": [
      "[('Alice', 25), ('Bob', 34), ('Charlie', 56)]\n"
     ]
    }
   ],
   "source": [
    "names = ['Alice','Bob','Charlie']\n",
    "ages = [25,34,56]\n",
    "result = zip(names , ages)\n",
    "print(list(result))"
   ]
  },
  {
   "cell_type": "markdown",
   "id": "4a6982a4",
   "metadata": {},
   "source": [
    "#### 35. How can you merge two dictionaries?\n",
    "\n",
    "Answer: In Python 3.5+, you can use the {**d1, **d2} syntax or the update() method."
   ]
  },
  {
   "cell_type": "code",
   "execution_count": 20,
   "id": "f1fe8258",
   "metadata": {},
   "outputs": [
    {
     "name": "stdout",
     "output_type": "stream",
     "text": [
      "{'a': 1, 'b': 3, 'c': 4}\n"
     ]
    }
   ],
   "source": [
    "d1 = {'a' : 1, 'b' : 2}\n",
    "d2 = {'b' : 3, 'c' : 4}\n",
    "merged = {**d1, **d2}\n",
    "print(merged)\n"
   ]
  },
  {
   "cell_type": "markdown",
   "id": "5723a889",
   "metadata": {},
   "source": [
    "#### 36.  What does the @property decorator do in Python?"
   ]
  },
  {
   "cell_type": "markdown",
   "id": "a5f15b55",
   "metadata": {},
   "source": [
    "Ans: The @property decorator allows you to define methods in a class that can be accssed like attributes without calling them\n",
    "    as a method. This helps in implementing the getter behavior."
   ]
  },
  {
   "cell_type": "code",
   "execution_count": 21,
   "id": "2926253a",
   "metadata": {},
   "outputs": [
    {
     "name": "stdout",
     "output_type": "stream",
     "text": [
      "10\n"
     ]
    }
   ],
   "source": [
    "class circle:\n",
    "    def __init__(self,radius):\n",
    "        self.__radius = radius\n",
    "        \n",
    "    @property \n",
    "    def diameter(self):\n",
    "        return self.__radius * 2\n",
    "circle = circle(5)\n",
    "print(circle.diameter)"
   ]
  },
  {
   "cell_type": "markdown",
   "id": "b0b66bf0",
   "metadata": {},
   "source": [
    "#### 37. What is the difference between asyncio and multi-threading?\n",
    "\n",
    "Answer: asyncio is a Python library used for writing concurrent code using the async/await syntax. It's single-threaded and uses cooperative multitasking. On the other hand, multi-threading involves multiple threads of a single process, with each thread executing independently and possibly concurrently."
   ]
  },
  {
   "cell_type": "markdown",
   "id": "baf07a02",
   "metadata": {},
   "source": [
    "#### 38. : How can you make an immutable class in Python?\n",
    "\n",
    "Answer: By ensuring that all of its attributes are immutable and preventing any modification to its state after initialization. This often involves overriding methods that modify state or using private attributes."
   ]
  },
  {
   "cell_type": "code",
   "execution_count": 22,
   "id": "9c0d7ce5",
   "metadata": {},
   "outputs": [],
   "source": [
    "class ImmutableClass:\n",
    "    def __init__(self, value):\n",
    "        self.__value = value\n",
    "        \n",
    "    @property \n",
    "    def value(self):\n",
    "        return self.__value"
   ]
  },
  {
   "cell_type": "markdown",
   "id": "154337a1",
   "metadata": {},
   "source": [
    "#### 39.  What is the purpose of the __slots__ attribute in a Python class?\n",
    "\n",
    "Answer: The __slots__ attribute is used to define a static set of attributes for instances of a class, potentially reducing memory usage and attribute access time. It prevents the creation of the default __dict__ for the object, which normally stores object attributes."
   ]
  },
  {
   "cell_type": "code",
   "execution_count": 23,
   "id": "dbbdcf58",
   "metadata": {},
   "outputs": [],
   "source": [
    "class MyClass:\n",
    "    __slots__ = ['x','y']\n",
    "    def __init__(self,x,y):\n",
    "        self.x = x\n",
    "        self.y = y\n",
    "        \n",
    "    "
   ]
  },
  {
   "cell_type": "markdown",
   "id": "1ebe1d03",
   "metadata": {},
   "source": [
    "#### 40. : How can you run Python code in parallel?\n",
    "\n",
    "Answer: You can use the multiprocessing module, which allows for the creation of separate processes, or the concurrent.futures module, which provides a high-level interface for asynchronously executing functions using threads or processes."
   ]
  },
  {
   "cell_type": "code",
   "execution_count": null,
   "id": "411812ec",
   "metadata": {},
   "outputs": [],
   "source": [
    "from multiprocessing import Pool\n",
    "\n",
    "def square(x):\n",
    "    return x * x\n",
    "\n",
    "with Pool(4) as p:  # Use 4 processes\n",
    "    result = p.map(square, [1, 2, 3, 4])\n",
    "print(result)  # Output: [1, 4, 9, 16]\n"
   ]
  },
  {
   "cell_type": "markdown",
   "id": "45dab90e",
   "metadata": {},
   "source": [
    "#### 41. What are Python descriptors?\n",
    "\n",
    "Answer: Descriptors are objects that define the behavior of attributes in other objects when they are accessed, set, or deleted. Descriptors are defined using at least one of the methods __get__, __set__, or __delete__."
   ]
  },
  {
   "cell_type": "code",
   "execution_count": null,
   "id": "70289122",
   "metadata": {},
   "outputs": [],
   "source": [
    "class Descriptor:\n",
    "    def __get__(self, instance, owner):\n",
    "        return instance._value\n",
    "    def __set__(self,instance,value):\n",
    "        instance.__value = value.power()\n",
    "        \n",
    "class MyClass:\n",
    "    attribute = Descriptor()\n",
    "    \n",
    "    def __init__(self,value):\n",
    "        self.__value = value\n",
    "obj = MyClass('hello')\n",
    "print(obj.attribute)  # hello\n",
    "obj.attribute = 'world'\n",
    "print(obj.attribute)  # WORLD"
   ]
  },
  {
   "cell_type": "markdown",
   "id": "80bb4b7e",
   "metadata": {},
   "source": [
    "#### 42. What is a metaclass in Python?\n",
    "\n",
    "Answer: A metaclass in Python is a class of a class that defines how a class behaves. In other words, just as a class defines how instances of the class behave, a metaclass defines how classes themselves behave.\n",
    "\n",
    "#### 43. Question: How do you define a class method and when would you use it?\n",
    "\n",
    "Answer: A class method is a method that's bound to the class, not the instance. You define it using the @classmethod decorator. It is typically used for factory methods or methods that are concerned with the class itself rather than specific instances."
   ]
  },
  {
   "cell_type": "code",
   "execution_count": null,
   "id": "5fe79b72",
   "metadata": {},
   "outputs": [],
   "source": [
    "class MyClass:\n",
    "    count = 0\n",
    "    \n",
    "    @classmethod\n",
    "    def increment_count(cls,value):\n",
    "        cls.count += value"
   ]
  },
  {
   "cell_type": "markdown",
   "id": "0381e895",
   "metadata": {},
   "source": [
    "#### 44.  What is the Global Interpreter Lock (GIL)?\n",
    "\n",
    "Answer: The GIL is a mutex in CPython (the default Python interpreter) that ensures only one thread executes Python bytecode at a time, even on multi-core systems. This is why multi-threaded CPU-bound programs may not see a performance improvement in CPython.\n",
    "\n",
    "#### 45. Question: How can you achieve inheritance in Python?\n",
    "\n",
    "Answer: Inheritance is achieved by defining a new class, derived from an existing class. The derived class inherits attributes and behaviors of the base class and can also have additional attributes or behaviors."
   ]
  },
  {
   "cell_type": "code",
   "execution_count": null,
   "id": "3d06f003",
   "metadata": {},
   "outputs": [],
   "source": [
    "class Animal:\n",
    "    def speak(self):\n",
    "        pass\n",
    "class Dog(Animal):\n",
    "    def speak(self):\n",
    "        return \"woof\"\n",
    "    "
   ]
  },
  {
   "cell_type": "markdown",
   "id": "b018e9c0",
   "metadata": {},
   "source": [
    "#### 46. : What is the super() function, and why might you use it?\n",
    "\n",
    "Answer: The super() function returns a temporary object of the superclass, allowing you to call its methods. It's commonly used in the __init__ method to ensure that initializers of parent classes get called."
   ]
  },
  {
   "cell_type": "code",
   "execution_count": null,
   "id": "a7fd3074",
   "metadata": {},
   "outputs": [],
   "source": [
    "class Animal:\n",
    "    def __init__(self, species):\n",
    "        self.species = species\n",
    "        \n",
    "class Dog(Animal):\n",
    "    def __init__(self,species,name):\n",
    "        super().__init__(species)\n",
    "        self.name = name\n",
    "        "
   ]
  },
  {
   "cell_type": "markdown",
   "id": "d7ccb751",
   "metadata": {},
   "source": [
    "#### 47.  What is the __str__ method in a class and when is it used?\n",
    "\n",
    "Answer: The __str__ method is a special method that should return a string representation of the object. It's invoked by the built-in str() function and by the print() function when outputting the object."
   ]
  },
  {
   "cell_type": "code",
   "execution_count": null,
   "id": "8909567e",
   "metadata": {},
   "outputs": [],
   "source": [
    "class Person:\n",
    "    def __init__(self,name):\n",
    "        self.name = name\n",
    "        \n",
    "    def __str__(self):\n",
    "        return f\"Person named {self.name}\"\n",
    "p = Person(\"Alice\")\n",
    "print(p)"
   ]
  },
  {
   "cell_type": "markdown",
   "id": "5234fcff",
   "metadata": {},
   "source": [
    "#### 48. How can you remove duplicate items from a list?\n",
    "\n",
    "Answer: One common way is to convert the list to a set and then back to a list."
   ]
  },
  {
   "cell_type": "code",
   "execution_count": null,
   "id": "a028d0a3",
   "metadata": {},
   "outputs": [],
   "source": [
    "mylist = [1,2,2,4,5,5,6]\n",
    "mylist = list(set(mylist))\n",
    "print(mylist)"
   ]
  },
  {
   "cell_type": "markdown",
   "id": "5e29fe6f",
   "metadata": {},
   "source": [
    "#### 49.   What are decorators in Python?\n",
    "\n",
    "Answer: Decorators provide a way to modify or enhance functions or methods without changing their code. They are a form of metaprogramming and are applied using the @ symbol above the function or method."
   ]
  },
  {
   "cell_type": "code",
   "execution_count": null,
   "id": "3468d575",
   "metadata": {},
   "outputs": [],
   "source": [
    "    def wrapper():\n",
    "        print(\"Something is happening before the function is called.\")\n",
    "        func()\n",
    "        print(\"Something is happening after the function is called.\")\n",
    "    return wrapper\n",
    "\n",
    "@my_decorator\n",
    "def say_hello():\n",
    "    print(\"Hello!\")\n",
    "\n",
    "say_hello()\n"
   ]
  },
  {
   "cell_type": "markdown",
   "id": "5d9a1306",
   "metadata": {},
   "source": [
    "#### 50.How can you implement method overloading in Python?\n",
    "\n",
    "Answer: Python doesn't support explicit method overloading like some other languages. However, we can achieve a similar effect using default arguments, variable-length argument lists, or keyword arguments."
   ]
  },
  {
   "cell_type": "code",
   "execution_count": null,
   "id": "43e36296",
   "metadata": {},
   "outputs": [],
   "source": [
    "class Greet:\n",
    "    def hello(self, name=None):\n",
    "        if name is not None:\n",
    "            print(f\"Hello, {name}\")\n",
    "        else:\n",
    "            print(\"Hello, \")"
   ]
  },
  {
   "cell_type": "code",
   "execution_count": null,
   "id": "8e4d21ce",
   "metadata": {},
   "outputs": [],
   "source": []
  }
 ],
 "metadata": {
  "kernelspec": {
   "display_name": "Python 3 (ipykernel)",
   "language": "python",
   "name": "python3"
  },
  "language_info": {
   "codemirror_mode": {
    "name": "ipython",
    "version": 3
   },
   "file_extension": ".py",
   "mimetype": "text/x-python",
   "name": "python",
   "nbconvert_exporter": "python",
   "pygments_lexer": "ipython3",
   "version": "3.10.9"
  }
 },
 "nbformat": 4,
 "nbformat_minor": 5
}
