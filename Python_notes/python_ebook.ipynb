{
 "cells": [
  {
   "cell_type": "code",
   "execution_count": 1,
   "id": "f9a63a83",
   "metadata": {},
   "outputs": [],
   "source": [
    "def wish(name):\n",
    "    print(\"Hello\",name,\"Good morning\")\n",
    "    "
   ]
  },
  {
   "cell_type": "code",
   "execution_count": 9,
   "id": "508524b6",
   "metadata": {},
   "outputs": [
    {
     "name": "stdout",
     "output_type": "stream",
     "text": [
      "Hello Durga Good morning\n",
      "Hello Ravi Good morning\n",
      "Hello Sunny Bad morning\n",
      "Hello Durga Good morning\n"
     ]
    }
   ],
   "source": [
    "def decor(func):\n",
    "    def inner(name):\n",
    "        if name==\"Sunny\":\n",
    "            print(\"Hello Sunny Bad morning\")\n",
    "        else:\n",
    "            func(name)\n",
    "    return inner\n",
    "@decor\n",
    "def wish(name):\n",
    "    print(\"Hello\",name,\"Good morning\")\n",
    "wish(\"Durga\")\n",
    "wish(\"Ravi\")\n",
    "wish(\"Sunny\")\n",
    "wish(\"Durga\")"
   ]
  },
  {
   "cell_type": "code",
   "execution_count": 11,
   "id": "1244c080",
   "metadata": {},
   "outputs": [
    {
     "name": "stdout",
     "output_type": "stream",
     "text": [
      "Hello Durga Good morning\n",
      "Hello Sunny Good morning\n",
      "Hello Durga Good morning\n",
      "Hello Sunny Bad Morning\n"
     ]
    }
   ],
   "source": [
    "def decor(func):\n",
    "    def inner(name):\n",
    "        if name==\"Sunny\":\n",
    "            print(\"Hello Sunny Bad Morning\")\n",
    "        else:\n",
    "            func(name)\n",
    "    return inner\n",
    "def wish(name):\n",
    "    print(\"Hello\",name,\"Good morning\")\n",
    "\n",
    "decorfunction=decor(wish)\n",
    "\n",
    "wish(\"Durga\")\n",
    "wish(\"Sunny\")\n",
    "\n",
    "decorfunction(\"Durga\")\n",
    "decorfunction(\"Sunny\")"
   ]
  },
  {
   "cell_type": "code",
   "execution_count": 13,
   "id": "bcd622ed",
   "metadata": {},
   "outputs": [
    {
     "name": "stdout",
     "output_type": "stream",
     "text": [
      "We are dividing 20 with 2\n",
      "10.0\n",
      "We are dividing 20 with 0\n",
      "OOPS...cannot divide\n",
      "None\n"
     ]
    }
   ],
   "source": [
    "def smart_division(func):\n",
    "    def inner(a,b):\n",
    "        print(\"We are dividing\",a,\"with\",b)\n",
    "        if b==0:\n",
    "            print(\"OOPS...cannot divide\")\n",
    "            return\n",
    "        else:\n",
    "            return func(a,b)\n",
    "    return inner \n",
    "@smart_division\n",
    "\n",
    "def division(a,b):\n",
    "    return a/b\n",
    "print(division(20,2))\n",
    "print(division(20,0))"
   ]
  },
  {
   "cell_type": "code",
   "execution_count": null,
   "id": "3afef504",
   "metadata": {},
   "outputs": [],
   "source": []
  }
 ],
 "metadata": {
  "kernelspec": {
   "display_name": "Python 3 (ipykernel)",
   "language": "python",
   "name": "python3"
  },
  "language_info": {
   "codemirror_mode": {
    "name": "ipython",
    "version": 3
   },
   "file_extension": ".py",
   "mimetype": "text/x-python",
   "name": "python",
   "nbconvert_exporter": "python",
   "pygments_lexer": "ipython3",
   "version": "3.10.9"
  }
 },
 "nbformat": 4,
 "nbformat_minor": 5
}
