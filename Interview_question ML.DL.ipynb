{
 "cells": [
  {
   "cell_type": "markdown",
   "id": "746dd3c4",
   "metadata": {},
   "source": [
    "# .................................................Machine Learning............................................."
   ]
  },
  {
   "cell_type": "markdown",
   "id": "3d0a7682",
   "metadata": {},
   "source": [
    "## 1. Where you have used Hypothesis Testing in your Machine learning Solution?"
   ]
  },
  {
   "cell_type": "markdown",
   "id": "531bca52",
   "metadata": {},
   "source": [
    "**Ans** :  Hypothesis testing is the kind of the experiments we perform to compare our dataset to get some conclusions\n",
    "\n",
    " I have used Hypothesis Testing in my Solution in various cases-\n",
    "\n",
    "1.      To check whether My Dataset is normally Distributed or not by conducting Shapiro-Wilk test.\n",
    "\n",
    "If the p-value(>=0.05) of our dataset then we can say that Our Dataset is Normally Distributed .\n",
    "\n",
    "Hence we accept the null Hypothesis and rejects the alternate Hypothesis.\n",
    "\n",
    "2.      To check Multicollinearity between Features-\n",
    "\n",
    "Pearson correlation test to validate if the independent quantitative variables aren’t correlated.\n",
    "\n",
    " \n",
    "\n",
    " "
   ]
  },
  {
   "cell_type": "markdown",
   "id": "ca99a65b",
   "metadata": {},
   "source": [
    "## 2. What kind of statistical tests you have performed in your ML Application?\n",
    "\n",
    "**Ans** : I have performed various kinds of Statistical tests in my projects like chi-square test, z-test.\n",
    "\n",
    "Basically I have used statistical test as a feature selection technique.\n",
    "\n",
    "It depends on the nature of the dataset that what experiments we have to perform.\n",
    "\n",
    "1.      Chi Square test to compare Categorical features.\n",
    "\n",
    "2.      Anova test to check whether the mean of two or more groups are different or not.\n",
    "\n",
    "3.      Pearson coefficient test to check multicollinearity between features.\n",
    "\n",
    "4.      Z-test to do standard scaling."
   ]
  },
  {
   "cell_type": "markdown",
   "id": "137a2370",
   "metadata": {},
   "source": [
    "## 3. What do you understand by P Value? And what is use of it in ML?\n",
    "\n",
    "**Ans**: P-value is a set of criteria using  which either we accept or reject the experiments.\n",
    "\n",
    "P value is the smallest significant value at which the null hypothesis will be rejected. If my P value or significant value or alpha value falls in the region of gaussian normally distribution then only we are going to accept it else we need to reject the null hypothesis and accept the alternative hypothesis.\n",
    "\n",
    "In M.L it is also known as Significance level and it is used in various kinds of tests like t-test,z-test and so on.\n",
    "\n",
    "It can be used for feature selection and is  provided by domain expert."
   ]
  },
  {
   "cell_type": "markdown",
   "id": "b6f9581b",
   "metadata": {},
   "source": [
    "## 4. Which type of error is severe Error, Type 1 or Type 2? And why with example\n",
    "**Ans**:\n",
    "1. Type I error means rejecting the null hypothesis when it’s actually true. It means concluding that results are statistically significant when, in reality, they came about purely by chance or because of unrelated factors.\n",
    "\n",
    "2. Type II error means not rejecting the null hypothesis when it’s actually false. This is not quite the same as “accepting” the null hypothesis, because hypothesis testing can only tell you whether to reject the null hypothesis.\n",
    "\n",
    "You decide to get tested for COVID-19 based on mild symptoms. There are two errors that could potentially occur:\n",
    "\n",
    ".Type I error (false positive): the test result says you have coronavirus, but you actually don’t.\n",
    ".Type II error (false negative): the test result says you don’t have coronavirus, but you actually do."
   ]
  },
  {
   "cell_type": "markdown",
   "id": "03a9ce08",
   "metadata": {},
   "source": [
    "## 5. Where we can use chi square and have used this test anywhere in your application?\n",
    "\n",
    "**Ans**: Chi square test is a statistical test which we used to compare/understand the relationship between our categorical features.\n",
    "\n",
    "In M.L we use this test as a feature selection technique"
   ]
  },
  {
   "cell_type": "markdown",
   "id": "a353f0c1",
   "metadata": {},
   "source": [
    "## 6. Can we use Chi square with Numerical dataset? If yes, give example. If no, give Reason?\n",
    "\n",
    "**Ans** :Chi square is mostly used on categorical features, it can be used on numerical features but since the chi square test is based on frequencies the numerical data would need to be split into various categories like bins.\n",
    "\n",
    "Since  chi square test is based on frequencies."
   ]
  },
  {
   "cell_type": "markdown",
   "id": "5a86ec87",
   "metadata": {},
   "source": [
    "## 7.  What do you understand by ANOVA Testing?\n",
    "\n",
    "**Ans:** Analysis of Variance(ANOVA) is a statistical test which we perform to see relationship between two or more groups.\n",
    "\n",
    "ANOVA test basically used to compare the mean of different samples/groups so we can conclude that which group is among all the groups is more effective.\n",
    "\n",
    "The fundamental concept behind the ANOVA test is “Linear Model”.\n",
    "\n",
    "Null Hypothesis is valid when all the sample means are equal.\n",
    "\n",
    "Alternate Hypothesis is valid when atleast one of the sample mean is different from other sample means.\n",
    "\n",
    "H0:µ1=µ2=—=µL   Null Hypothesis\n",
    "\n",
    "H1: µl≠µm       Alternate Hypothesis\n",
    "\n",
    "Types of ANOVA-\n",
    "\n",
    "One Way ANOVA-When we are comparing groups based on only one factor/variable.\n",
    "\n",
    "Two Way ANOVA- When we are comparing groups based on more than one factor/variable."
   ]
  },
  {
   "cell_type": "markdown",
   "id": "5bc93828",
   "metadata": {},
   "source": [
    "## 8. Give me a scenario where you can use Z test and T test.\n",
    "**Ans:** \n",
    "a)We use Z test when population standard deviation is given and sample size is greater than equal to 30.\n",
    "\n",
    "b) We use T test when population standard deviation is not given and sample size is less than 30. Here we use sample standard deviation.\n",
    "\n",
    "Both Tests are used for comparison of mean."
   ]
  },
  {
   "cell_type": "markdown",
   "id": "d7669430",
   "metadata": {},
   "source": [
    "## 9. What do you understand by inferential Statistics?\n",
    "\n",
    "**Ans:**- Inferential statistics is a type of statistics which we used to make some conclusions/predictions on given sample/population i.e Dataset  by using various tests like t-test, z-test, chi-square test and so on."
   ]
  },
  {
   "cell_type": "markdown",
   "id": "a54d7b51",
   "metadata": {},
   "source": [
    "## 10 When you are trying to calculate Std Deviation or Variance, why you used N-1 in Denominator?\n",
    "\n",
    "**Ans:** We use N-1 in denominator to avoid the bias estimation in the result.\n",
    "\n",
    "Suppose if we have taken sample is very closed to each other but sample mean will be far away from population mean.\n",
    "\n",
    "In this case if we choose N/N+1/N+2 in denominator then it will lead to biased selection.\n",
    "\n",
    "Hence we use N-1 in denominator for unbiased experiment/result."
   ]
  },
  {
   "cell_type": "markdown",
   "id": "c51d0e54",
   "metadata": {},
   "source": [
    "## 11. What do you understand by right skewness, Give an example?"
   ]
  },
  {
   "cell_type": "markdown",
   "id": "aa565be2",
   "metadata": {},
   "source": [
    "**Ans:** When we draw a KDE graph of the data which shows an elongated curve at the right-hand side of the data such a type of graph is called Right-skewed data or positively skewed data. One example would be, Length of comments in the post there would be very few who would be writing long comments on a particular post compared to other average people. The relation of mean, median, mode that is shown in this below particular diagram is Mean > Median > Mode.\n",
    "\n"
   ]
  },
  {
   "cell_type": "markdown",
   "id": "914187dc",
   "metadata": {},
   "source": [
    "## 12. What is the difference between Normal distribution and Std Normal Distribution and Uniform Distribution?"
   ]
  },
  {
   "cell_type": "markdown",
   "id": "90dc4e3b",
   "metadata": {},
   "source": [
    "**Ans:**\n",
    "\n",
    "**Normal Distribution:** when you plot a graph and you see a bell-shaped curve that means the data is normally distributed and it’s likely said that when you train models the machine understands relations quickly. Let’s assume that in a office employees come to the office between 8:00 am to 8:40 am. From the normal distribution data, you could figure out that many people come to the office between 8:20 am as it’s at the bell curve section of the graph.\n",
    "\n",
    "\n",
    "\n",
    "**Uniform Distribution:** It means that there is an equally likely chance of everything happening. In this case, the chances of people coming to the office between 8:00 to 8:40 is equal that employees can arrive anytime between this time range. So if we subtract 8:40–8:00 = 40 different times that are equally likely to have employees arrive at the office.\n",
    "\n",
    "\n",
    "\n",
    "**Standard Normal Distribution:** It’s a distribution where your standard deviation is 1 and the mean is 0. It is basically used to find out suppose within 1.5 s.d away from mean..what will be its distribution which you won’t be ab;e to find out in Normal distribution which has 68–95–99 % rule. To get to know this we use the formula of Z-score. For example, you have normally distributed data of students and you know its mean and s.d.Now you want to find the probability of a student scoring more than 60% then to solve this particular problem you go for standard normal distribution where you calculate probability using a z-score.\n",
    "\n"
   ]
  },
  {
   "cell_type": "markdown",
   "id": "80d67577",
   "metadata": {},
   "source": [
    "## 13. What is the different kind of Probabilistic distributions you heard of?\n",
    "\n",
    "**Ans:** I have heard of Binomial Distribution, Pareto distribution, Normal Distribution, Standard Normal Distribution, Poisson Distribution, Log-Normal Distribution."
   ]
  },
  {
   "cell_type": "markdown",
   "id": "ff299963",
   "metadata": {},
   "source": [
    "## 14. What do you understand by symmetric dataset?\n",
    "\n",
    "**Ans:**  It can be termed symmetrical if it can be divided into two equal sizes of the same shape. In short, you have data equally distributed on both sides of the mean."
   ]
  },
  {
   "cell_type": "markdown",
   "id": "973d6a43",
   "metadata": {},
   "source": [
    "## 15. In your last project, were you using symmetric data or Asymmetric Data, if it’s asymmetric, what kind of EDA you have performed?\n",
    "\n",
    "**Ans:**  There were some data symmetric so I didn’t touch on that but yes it had data that were asymmetric in nature and I tried converted figuring out whether it has outliers, eliminating those outliers, and performing standard scaling where it will transform my data where s.d =1 and mean = 0"
   ]
  },
  {
   "cell_type": "markdown",
   "id": "60d908fd",
   "metadata": {},
   "source": [
    "## 16. Can you please tell me the formula for skewness?\n",
    "\n",
    "**Ans:** Skewness = 3*(mean-median))/standard deviation\n",
    "\n",
    "## 17. Have you applied student T distribution Anywhere?\n",
    "\n",
    "**Ans:** No, but I know when to use it its when your sample size is less than 30 and it’s used to compare two samples and does not contain outliers.\n",
    "\n",
    "\n",
    "\n",
    "## 18. What do you understand by statistical analysis of data, Give me a scenario where you have used statistical analysis in the last projects?\n",
    "\n",
    "**Ans:** I have used it in every project, It’s really important to understand data so that it helps us to perform some operations that are required to generate a good machine learning model. Statistics is a blend of both descriptive as well as inferential both work hand in hand to solve a particular business requirement.\n",
    "\n",
    "## 19. Can you please tell me the criterion to apply binomial distribution, with example?\n",
    "\n",
    "**Ans:** You see Binomial Distribution if it’s repeated for fixed no. of times where the trials are independent of each other. For example, tossing 5 coins and finding the probability of getting heads. So basically each coin will have two outcomes which are head and tails so if we do maths, possible outcomes from 5 flips would be 2.2.2.2.2 = 32\n",
    "\n",
    "Criteria: no. of trails and probability of heads/success."
   ]
  },
  {
   "cell_type": "markdown",
   "id": "33f2cdba",
   "metadata": {},
   "source": [
    "## 21. Have you used AB testing in your project So far? If yes, Explain. If not, Tell me about AB testing?"
   ]
  },
  {
   "cell_type": "markdown",
   "id": "7b272da9",
   "metadata": {},
   "source": [
    "**Ans:**  I haven’t used hypotheses testing but I can tell you what’s hypothesis testing we basically state or define null hypothesis(H0) and Alternative Hypothesis which is the opposite of H0 statement then we perform the experiment on top of it and then state the conclusion whether we should accept or reject the null hypothesis(H0)."
   ]
  },
  {
   "cell_type": "markdown",
   "id": "3ad5fb71",
   "metadata": {},
   "source": [
    "## 22. Explain Gaussian Distribution in your own way.\n",
    "\n",
    "**Ans:** It is also called Normal Distribution. It’s like a bell shape curve when you plot a graph where most of the data lie near the mean meaning center of the data points. It would be symmetrical on right and left sides of the mean.\n",
    "\n",
    "## 23. What do you understand by 1st,2nd, and 3rd Standard Deviation from Mean?\n",
    "\n",
    "Ans: Standard deviation talks about the spread of the data in a distribution with respect to different data. In Normal Gaussian Distribution. It says that within -1 to 1st standard deviation you would be having 68% of data and from -2 to +2 standard deviation you hold 95% of data and last but not least from -3 to +3 you hold 99.7% of data. It is also called as 68–95–99 rule which is also known as the Empirical rule.\n",
    "\n",
    "\n",
    "\n",
    "## 24. What do you understand by variance in data in simple words?\n",
    "\n",
    "**Ans:** It talks about how far your data point is away from the mean.\n",
    "\n",
    "## 25. If the variance of the dataset is too high, in that case How you will be able to handle it or decrease it?\n",
    "\n",
    "**Ans:** Bias and Variance both come under reducible errors. This is a type of error that can be reduced and controlled to get higher accuracy. Bias means an error that you see after training the model. Variance is an error after testing the model. To handle high variance you can go for multiple final models instead of one or do early stopping at the time of training.\n",
    "\n",
    "## 26. Explain the relationship between Variance and Bias.\n",
    "\n",
    "**Ans:** The relationship with respect to datapoints in case of variance where best-fit line holds a good amount of data points its considered as Overfitting model and data points that are not close to best-fit line shows bias. In short, it’s not trying to understand relations. It’s called underfitting of the model.\n",
    "\n",
    "\n",
    "\n",
    "## 27. Tell me what kind of graph-based approach I will be able to apply to find out the standardization of Dataset?\n",
    "\n",
    "**Ans:** Histogram\n",
    "\n",
    "## 28. What do you understand by Z Value given in Z Table?\n",
    "\n",
    "**Ans:** Its tells no. of standard deviations a value is away from the mean. Let’s suppose if Z value is positive that means the data point is above the mean whereas if Z value is negative which shows that it is below the mean.\n",
    "\n",
    "## 29. Do you know a Standard Normal Distribution Formula?\n",
    "\n",
    "**Ans:** Yes its z = (x-mean) / standard deviation.\n",
    "\n",
    "## 30. Can you please explain the critical region in your way?\n",
    "\n",
    "**Ans:** This critical region comes under hypothesis testing. Critical regions are regions that are rejection regions that are separated by positive and negative z values which are also known as critical values which are on both sides.\n",
    "\n"
   ]
  },
  {
   "cell_type": "markdown",
   "id": "294e1b53",
   "metadata": {},
   "source": [
    "## 32. Can we use the Alternate hypothesis as a null Hypothesis?\n",
    "\n",
    "**Ans:** No according to me.\n",
    "\n",
    "## 33. Can you please explain the confusion matrix for more than 2 variables?\n",
    "\n",
    "**Ans:** I have answered this question by writing a blog in a beautiful way. Please check this link.\n",
    "\n",
    "## 34. Give me an example of a False Negative From this interview?\n",
    "\n",
    "**Ans:** False Negative denotes that the predicted value is different from an actual value. Let’s suppose I predicted that my answer to the previous question asked by you was True but actually it turned to be false.\n",
    "\n",
    "## 35. What do you understand by Precision, Recall, and F1 Score for example?\n",
    "\n",
    "**Ans:** Precision and Recall are used for information retrieval like google search engine to give you the top 10 links that are most relevant to the questions you have asked. They work on positive results.\n",
    "\n",
    "**Precision** = TP/TP+FP(out of the total positive predicted by the model what is the % of an actual positive result)\n",
    "\n",
    "**Recall (TPR)** = TP/TP+FN (out of total positive predicted by the model what is the % of an actual negative result)\n",
    "\n",
    "**F1 Score** = 2*((precision*recall)/(precision+recall)). Values will be eventually between 0 to 1 which can be converted to %. The closer the score towards 1 the more good and accurate your model is.\n",
    "\n",
    "We go for the F1 Score when we don’t know which matches precision or recall looking at the business requirement.\n",
    "\n",
    "## 36. What kind of questions do you ask your client if they give you a dataset?\n",
    "\n",
    "**Ans:** I will first check how many features have null values and will try to ask the client is there any relevance because of which they are null or zero. I would try to understand from the client about a particular feature as to how it is impacted the target feature. I will try to understand why this data is generated.\n",
    "\n",
    "## 37. Have you ever done an F test on your dataset, if yes, give example. If No, then explain F distribution?\n",
    "\n",
    "**Ans:** F-distribution often arises when you are working with ratios of variances. F-test is also called as Annova test. It is used to compare 1 numerical & 1 categorical feature or it tells whether 2 or more groups are similar or not. It’s right-skewed data.\n",
    "\n",
    "## 38. What is AUC & ROC Curve? Explain with uses.\n",
    "\n",
    "**Ans:** ROC stands for Receiver Operator Characteristic. It basically tells what kind of threshold we need to consider which totally depends on the business use-case. AUC stands for Area under the curve. It helps you to find out which model is the best fit to solve a particular business problem. AUC is built out of ROC Curve.\n",
    "\n",
    "## 40. What do you understand by 1 tail test & 2 tail test? give example.\n",
    "\n",
    "**Ans:**\n",
    "\n",
    "For a two-tail test, Let’s consider a person who wrote an exam that he/she may score above or below 700 out of 1000 marks.\n",
    "For 1 tail test, A particular drug lowers response time or whether a particular machine stops after an hour."
   ]
  },
  {
   "cell_type": "code",
   "execution_count": null,
   "id": "3728146b",
   "metadata": {},
   "outputs": [],
   "source": []
  }
 ],
 "metadata": {
  "kernelspec": {
   "display_name": "Python 3 (ipykernel)",
   "language": "python",
   "name": "python3"
  },
  "language_info": {
   "codemirror_mode": {
    "name": "ipython",
    "version": 3
   },
   "file_extension": ".py",
   "mimetype": "text/x-python",
   "name": "python",
   "nbconvert_exporter": "python",
   "pygments_lexer": "ipython3",
   "version": "3.10.9"
  }
 },
 "nbformat": 4,
 "nbformat_minor": 5
}
